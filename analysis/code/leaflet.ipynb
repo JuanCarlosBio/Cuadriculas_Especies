{
 "cells": [
  {
   "cell_type": "markdown",
   "metadata": {},
   "source": [
    "FLUJO DE TRABAJO CUADRÍCULAS ESPECIES\n",
    "===\n",
    "\n",
    "Este es un ejemplo para usar las cuadrículas creadas en [workflow.ipynb](../../workflow.ipynb). \n",
    "\n",
    "Usaré Python para crear un mapa de calor para observar especies encontradas en Bandama.\n",
    "\n",
    "Estas observaciones no tienen que ser únicamente de especies, pueden ser de otros tópicos."
   ]
  },
  {
   "cell_type": "code",
   "execution_count": 1,
   "metadata": {},
   "outputs": [
    {
     "name": "stderr",
     "output_type": "stream",
     "text": [
      "C:\\Users\\jcge9\\AppData\\Local\\Temp\\ipykernel_19288\\2990599079.py:2: DeprecationWarning: \n",
      "Pyarrow will become a required dependency of pandas in the next major release of pandas (pandas 3.0),\n",
      "(to allow more performant data types, such as the Arrow string type, and better interoperability with other libraries)\n",
      "but was not found to be installed on your system.\n",
      "If this would cause problems for you,\n",
      "please provide us feedback at https://github.com/pandas-dev/pandas/issues/54466\n",
      "        \n",
      "  import pandas as pd\n"
     ]
    }
   ],
   "source": [
    "# Importar librerías\n",
    "import pandas as pd\n",
    "import geopandas as gpd\n",
    "import fiona\n",
    "from shapely.geometry import Point\n",
    "import os"
   ]
  },
  {
   "cell_type": "markdown",
   "metadata": {},
   "source": [
    "### Usamos el paquete de fiona\n",
    "\n",
    "Se usará el paquete de fiona para poder pasar los archivos SHP a KML"
   ]
  },
  {
   "cell_type": "code",
   "execution_count": 2,
   "metadata": {},
   "outputs": [],
   "source": [
    "fiona.supported_drivers['KML'] = 'rw'"
   ]
  },
  {
   "cell_type": "markdown",
   "metadata": {},
   "source": [
    "### Cargamos los datos en GeoDataFrames (geopandas)\n",
    "\n",
    "1. Capa SHP del IDECanarias\n",
    "2. Cuadrículas creadas 100 m x 100 m\n",
    "3. Especies que he guardado en mi base de datos personal."
   ]
  },
  {
   "cell_type": "code",
   "execution_count": 10,
   "metadata": {},
   "outputs": [],
   "source": [
    "enp = gpd.read_file(\"../../data/enps_canarias/eennpp.shp\")\n",
    "bandama_grid = gpd.read_file(\"../../results/C-14.kml\", driver = \"kml\")\n",
    "especies_tsv = pd.read_csv(\"../data/coord_plantae.tsv\", sep = \"\\t\")"
   ]
  },
  {
   "cell_type": "markdown",
   "metadata": {},
   "source": [
    "### Crear la capa de Bandama"
   ]
  },
  {
   "cell_type": "code",
   "execution_count": 11,
   "metadata": {},
   "outputs": [],
   "source": [
    "bandama = enp[enp[\"nombre\"] == \"Bandama\"]\n",
    "bandama = bandama.to_crs(epsg=4326) "
   ]
  },
  {
   "cell_type": "markdown",
   "metadata": {},
   "source": [
    "### Procesados del archivo de Especies\n",
    "\n",
    "Lo convertimos en GeoDataFrame"
   ]
  },
  {
   "cell_type": "code",
   "execution_count": 14,
   "metadata": {},
   "outputs": [],
   "source": [
    "geometry = [\n",
    "  Point(xy) for xy in zip(\n",
    "    especies_tsv['longitude'], \n",
    "    especies_tsv['latitude']\n",
    "    )\n",
    "  ]\n",
    "puntos_especie = gpd.GeoDataFrame(especies_tsv, geometry=geometry)\n",
    "puntos_especie = puntos_especie.set_crs(epsg=4326, inplace=True)"
   ]
  },
  {
   "cell_type": "markdown",
   "metadata": {},
   "source": [
    "### Intersa solo estudiar como ejemplo las especies nativas"
   ]
  },
  {
   "cell_type": "code",
   "execution_count": 15,
   "metadata": {},
   "outputs": [],
   "source": [
    "gdf_especies = puntos_especie[puntos_especie[\"category\"] == \"Especie nativa\"]\n",
    "gdf_especies_nativa = gdf_especies[gdf_especies[\"category\"] == \"Especie nativa\"]"
   ]
  },
  {
   "cell_type": "markdown",
   "metadata": {},
   "source": [
    "Crear una nueva columna en el GeoDataFrame de las cuadrículas para numerar cada una de ellas."
   ]
  },
  {
   "cell_type": "code",
   "execution_count": 17,
   "metadata": {},
   "outputs": [],
   "source": [
    "bandama_grid[\"cuadricula\"] = range(len(bandama_grid) )"
   ]
  },
  {
   "cell_type": "markdown",
   "metadata": {},
   "source": [
    "### Combinar los GeoDataFrames\n",
    "\n",
    "GeoDataFrame con la información combinada de las CUADRÍCULAS DE BANDAMA + PUNTOS DE LAS ESPECIES"
   ]
  },
  {
   "cell_type": "code",
   "execution_count": 18,
   "metadata": {},
   "outputs": [],
   "source": [
    "#bandama_especies = \n",
    "bandama_species_cuadriculas = gpd.sjoin(bandama_grid, gdf_especies_nativa, how=\"left\", predicate=\"contains\").dropna(subset=['index_right'])"
   ]
  },
  {
   "cell_type": "markdown",
   "metadata": {},
   "source": [
    "### Contar el número de especies por cuadrículas\n",
    "\n",
    "De esta forma creamos una capa con las cuadrículas y el número de especies para ver la biodiversidad"
   ]
  },
  {
   "cell_type": "code",
   "execution_count": 19,
   "metadata": {},
   "outputs": [],
   "source": [
    "ban_esp_cua_n = gpd.GeoDataFrame(\n",
    "  (bandama_species_cuadriculas[[\"specie\", \"cuadricula\", \"geometry\"]].\n",
    "    groupby([\"specie\", \"cuadricula\", \"geometry\"]).\n",
    "    size().\n",
    "    reset_index(name=\"n\")\n",
    "  ), \n",
    "  geometry=\"geometry\")"
   ]
  },
  {
   "cell_type": "markdown",
   "metadata": {},
   "source": [
    "### Comprobar con un Plot"
   ]
  },
  {
   "cell_type": "code",
   "execution_count": 20,
   "metadata": {},
   "outputs": [
    {
     "data": {
      "text/plain": [
       "<Axes: >"
      ]
     },
     "execution_count": 20,
     "metadata": {},
     "output_type": "execute_result"
    },
    {
     "data": {
      "image/png": "[encoded data removed]",
      "text/plain": [
       "<Figure size 640x480 with 1 Axes>"
      ]
     },
     "metadata": {},
     "output_type": "display_data"
    }
   ],
   "source": [
    "ban_esp_cua_n.plot(column=\"n\")"
   ]
  },
  {
   "cell_type": "markdown",
   "metadata": {},
   "source": [
    "## Descargamos los datos como un SHP "
   ]
  },
  {
   "cell_type": "code",
   "execution_count": 21,
   "metadata": {},
   "outputs": [],
   "source": [
    "ban_esp_cua_n.to_file(\"../data/bandama_especies.shp\")"
   ]
  }
 ],
 "metadata": {
  "kernelspec": {
   "display_name": "Python 3",
   "language": "python",
   "name": "python3"
  },
  "language_info": {
   "codemirror_mode": {
    "name": "ipython",
    "version": 3
   },
   "file_extension": ".py",
   "mimetype": "text/x-python",
   "name": "python",
   "nbconvert_exporter": "python",
   "pygments_lexer": "ipython3",
   "version": "3.12.7"
  }
 },
 "nbformat": 4,
 "nbformat_minor": 2
}
