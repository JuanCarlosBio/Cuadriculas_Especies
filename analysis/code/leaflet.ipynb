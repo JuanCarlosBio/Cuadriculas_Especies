{
 "cells": [
  {
   "cell_type": "code",
   "execution_count": 2,
   "metadata": {},
   "outputs": [
    {
     "name": "stderr",
     "output_type": "stream",
     "text": [
      "C:\\Users\\jcge9\\AppData\\Local\\Temp\\ipykernel_10640\\1038754735.py:1: DeprecationWarning: \n",
      "Pyarrow will become a required dependency of pandas in the next major release of pandas (pandas 3.0),\n",
      "(to allow more performant data types, such as the Arrow string type, and better interoperability with other libraries)\n",
      "but was not found to be installed on your system.\n",
      "If this would cause problems for you,\n",
      "please provide us feedback at https://github.com/pandas-dev/pandas/issues/54466\n",
      "        \n",
      "  import pandas as pd\n"
     ]
    }
   ],
   "source": [
    "import pandas as pd\n",
    "import geopandas as gpd\n",
    "import fiona\n",
    "from shapely.geometry import Point\n",
    "import os"
   ]
  },
  {
   "cell_type": "code",
   "execution_count": 47,
   "metadata": {},
   "outputs": [],
   "source": [
    "## Se usará el paquete de fiona para poder pasar los archivos SHP a KML\n",
    "fiona.supported_drivers['KML'] = 'rw'"
   ]
  },
  {
   "cell_type": "code",
   "execution_count": 48,
   "metadata": {},
   "outputs": [],
   "source": [
    "enp = gpd.read_file(\"../../data/enps_canarias/eennpp.shp\")\n",
    "bandama_grid = gpd.read_file(\"../../results/C-14.kml\", driver = \"kml\")\n",
    "especies_tsv = pd.read_csv(\"../data/coord_plantae.tsv\", sep = \"\\t\")"
   ]
  },
  {
   "cell_type": "code",
   "execution_count": 49,
   "metadata": {},
   "outputs": [],
   "source": [
    "bandama = enp[enp[\"nombre\"] == \"Bandama\"]\n",
    "bandama = bandama.to_crs(epsg=4326) "
   ]
  },
  {
   "cell_type": "code",
   "execution_count": 50,
   "metadata": {},
   "outputs": [],
   "source": [
    "gdf_especies = gpd.GeoDataFrame(especies_tsv, geometry=gpd.points_from_xy(especies_tsv['longitude'], especies_tsv['latitude']))\n",
    "gdf_especies = gdf_especies.set_crs(epsg=4326, inplace=True)\n",
    "gdf_especies = gdf_especies[gdf_especies[\"category\"] == \"Especie nativa\"]\n",
    "gdf_especies_nativa = gdf_especies[gdf_especies[\"category\"] == \"Especie nativa\"]"
   ]
  },
  {
   "cell_type": "code",
   "execution_count": 51,
   "metadata": {},
   "outputs": [],
   "source": [
    "#bandama_grid = \n",
    "bandama_grid[\"cuadricula\"] = range(len(bandama_grid) )"
   ]
  },
  {
   "cell_type": "code",
   "execution_count": 52,
   "metadata": {},
   "outputs": [
    {
     "name": "stderr",
     "output_type": "stream",
     "text": [
      "C:\\Users\\jcge9\\AppData\\Local\\Packages\\PythonSoftwareFoundation.Python.3.12_qbz5n2kfra8p0\\LocalCache\\local-packages\\Python312\\site-packages\\IPython\\core\\interactiveshell.py:3493: FutureWarning: The `op` parameter is deprecated and will be removed in a future release. Please use the `predicate` parameter instead.\n",
      "  if await self.run_code(code, result, async_=asy):\n"
     ]
    }
   ],
   "source": [
    "bandama_especies = gpd.sjoin(gdf_especies, bandama, how=\"inner\", op=\"within\")"
   ]
  },
  {
   "cell_type": "code",
   "execution_count": 53,
   "metadata": {},
   "outputs": [],
   "source": [
    "grid_species = gpd.overlay(bandama_grid, bandama_especies, how=\"union\", keep_geom_type=False)"
   ]
  },
  {
   "cell_type": "code",
   "execution_count": 61,
   "metadata": {},
   "outputs": [
    {
     "data": {
      "text/plain": [
       "<Axes: >"
      ]
     },
     "execution_count": 61,
     "metadata": {},
     "output_type": "execute_result"
    },
    {
     "data": {
      "image/png": "[encoded data removed]",
      "text/plain": [
       "<Figure size 640x480 with 1 Axes>"
      ]
     },
     "metadata": {},
     "output_type": "display_data"
    }
   ],
   "source": [
    "grid_summary = grid_species.groupby([\"cuadricula\", \"specie\", \"name\", \"geometry\"]).size().reset_index(name = \"n\")\n",
    "gpd.GeoDataFrame(grid_summary, geometry=\"geometry\").plot()"
   ]
  },
  {
   "cell_type": "markdown",
   "metadata": {},
   "source": []
  },
  {
   "cell_type": "code",
   "execution_count": 62,
   "metadata": {},
   "outputs": [
    {
     "data": {
      "text/html": [
       "<div>\n",
       "<style scoped>\n",
       "    .dataframe tbody tr th:only-of-type {\n",
       "        vertical-align: middle;\n",
       "    }\n",
       "\n",
       "    .dataframe tbody tr th {\n",
       "        vertical-align: top;\n",
       "    }\n",
       "\n",
       "    .dataframe thead th {\n",
       "        text-align: right;\n",
       "    }\n",
       "</style>\n",
       "<table border=\"1\" class=\"dataframe\">\n",
       "  <thead>\n",
       "    <tr style=\"text-align: right;\">\n",
       "      <th></th>\n",
       "      <th>cuadricula</th>\n",
       "      <th>specie</th>\n",
       "      <th>name</th>\n",
       "      <th>geometry</th>\n",
       "      <th>n</th>\n",
       "    </tr>\n",
       "  </thead>\n",
       "  <tbody>\n",
       "    <tr>\n",
       "      <th>0</th>\n",
       "      <td>24</td>\n",
       "      <td>Euphorbia regis-jubae</td>\n",
       "      <td>Tabaiba amarga, Tabaiba salvaje, higuerilla</td>\n",
       "      <td>POINT (-15.45914 28.03019)</td>\n",
       "      <td>1</td>\n",
       "    </tr>\n",
       "    <tr>\n",
       "      <th>1</th>\n",
       "      <td>30</td>\n",
       "      <td>Euphorbia regis-jubae</td>\n",
       "      <td>Tabaiba amarga, Tabaiba salvaje, higuerilla</td>\n",
       "      <td>POINT (-15.45940 28.03538)</td>\n",
       "      <td>1</td>\n",
       "    </tr>\n",
       "    <tr>\n",
       "      <th>2</th>\n",
       "      <td>46</td>\n",
       "      <td>Periploca laevigata</td>\n",
       "      <td>Cornical</td>\n",
       "      <td>POINT (-15.45824 28.03410)</td>\n",
       "      <td>1</td>\n",
       "    </tr>\n",
       "    <tr>\n",
       "      <th>3</th>\n",
       "      <td>47</td>\n",
       "      <td>Euphorbia regis-jubae</td>\n",
       "      <td>Tabaiba amarga, Tabaiba salvaje, higuerilla</td>\n",
       "      <td>POINT (-15.45813 28.03483)</td>\n",
       "      <td>1</td>\n",
       "    </tr>\n",
       "    <tr>\n",
       "      <th>4</th>\n",
       "      <td>47</td>\n",
       "      <td>Euphorbia regis-jubae</td>\n",
       "      <td>Tabaiba amarga, Tabaiba salvaje, higuerilla</td>\n",
       "      <td>POINT (-15.45834 28.03447)</td>\n",
       "      <td>1</td>\n",
       "    </tr>\n",
       "    <tr>\n",
       "      <th>...</th>\n",
       "      <td>...</td>\n",
       "      <td>...</td>\n",
       "      <td>...</td>\n",
       "      <td>...</td>\n",
       "      <td>...</td>\n",
       "    </tr>\n",
       "    <tr>\n",
       "      <th>77</th>\n",
       "      <td>147</td>\n",
       "      <td>Euphorbia regis-jubae</td>\n",
       "      <td>Tabaiba amarga, Tabaiba salvaje, higuerilla</td>\n",
       "      <td>POINT (-15.45362 28.03114)</td>\n",
       "      <td>1</td>\n",
       "    </tr>\n",
       "    <tr>\n",
       "      <th>78</th>\n",
       "      <td>147</td>\n",
       "      <td>Euphorbia regis-jubae</td>\n",
       "      <td>Tabaiba amarga, Tabaiba salvaje, higuerilla</td>\n",
       "      <td>POINT (-15.45359 28.03117)</td>\n",
       "      <td>1</td>\n",
       "    </tr>\n",
       "    <tr>\n",
       "      <th>79</th>\n",
       "      <td>148</td>\n",
       "      <td>Euphorbia regis-jubae</td>\n",
       "      <td>Tabaiba amarga, Tabaiba salvaje, higuerilla</td>\n",
       "      <td>POINT (-15.45378 28.03201)</td>\n",
       "      <td>1</td>\n",
       "    </tr>\n",
       "    <tr>\n",
       "      <th>80</th>\n",
       "      <td>148</td>\n",
       "      <td>Kleinia neriifolia</td>\n",
       "      <td>Verode, verol</td>\n",
       "      <td>POINT (-15.45386 28.03240)</td>\n",
       "      <td>1</td>\n",
       "    </tr>\n",
       "    <tr>\n",
       "      <th>81</th>\n",
       "      <td>148</td>\n",
       "      <td>Periploca laevigata</td>\n",
       "      <td>Cornical</td>\n",
       "      <td>POINT (-15.45387 28.03224)</td>\n",
       "      <td>1</td>\n",
       "    </tr>\n",
       "  </tbody>\n",
       "</table>\n",
       "<p>82 rows × 5 columns</p>\n",
       "</div>"
      ],
      "text/plain": [
       "    cuadricula                 specie  \\\n",
       "0           24  Euphorbia regis-jubae   \n",
       "1           30  Euphorbia regis-jubae   \n",
       "2           46    Periploca laevigata   \n",
       "3           47  Euphorbia regis-jubae   \n",
       "4           47  Euphorbia regis-jubae   \n",
       "..         ...                    ...   \n",
       "77         147  Euphorbia regis-jubae   \n",
       "78         147  Euphorbia regis-jubae   \n",
       "79         148  Euphorbia regis-jubae   \n",
       "80         148     Kleinia neriifolia   \n",
       "81         148    Periploca laevigata   \n",
       "\n",
       "                                           name                    geometry  n  \n",
       "0   Tabaiba amarga, Tabaiba salvaje, higuerilla  POINT (-15.45914 28.03019)  1  \n",
       "1   Tabaiba amarga, Tabaiba salvaje, higuerilla  POINT (-15.45940 28.03538)  1  \n",
       "2                                      Cornical  POINT (-15.45824 28.03410)  1  \n",
       "3   Tabaiba amarga, Tabaiba salvaje, higuerilla  POINT (-15.45813 28.03483)  1  \n",
       "4   Tabaiba amarga, Tabaiba salvaje, higuerilla  POINT (-15.45834 28.03447)  1  \n",
       "..                                          ...                         ... ..  \n",
       "77  Tabaiba amarga, Tabaiba salvaje, higuerilla  POINT (-15.45362 28.03114)  1  \n",
       "78  Tabaiba amarga, Tabaiba salvaje, higuerilla  POINT (-15.45359 28.03117)  1  \n",
       "79  Tabaiba amarga, Tabaiba salvaje, higuerilla  POINT (-15.45378 28.03201)  1  \n",
       "80                                Verode, verol  POINT (-15.45386 28.03240)  1  \n",
       "81                                     Cornical  POINT (-15.45387 28.03224)  1  \n",
       "\n",
       "[82 rows x 5 columns]"
      ]
     },
     "execution_count": 62,
     "metadata": {},
     "output_type": "execute_result"
    }
   ],
   "source": [
    "grid_summary"
   ]
  },
  {
   "cell_type": "code",
   "execution_count": null,
   "metadata": {},
   "outputs": [],
   "source": []
  }
 ],
 "metadata": {
  "kernelspec": {
   "display_name": "Python 3",
   "language": "python",
   "name": "python3"
  },
  "language_info": {
   "codemirror_mode": {
    "name": "ipython",
    "version": 3
   },
   "file_extension": ".py",
   "mimetype": "text/x-python",
   "name": "python",
   "nbconvert_exporter": "python",
   "pygments_lexer": "ipython3",
   "version": "3.12.7"
  }
 },
 "nbformat": 4,
 "nbformat_minor": 2
}
