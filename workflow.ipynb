{
 "cells": [
  {
   "cell_type": "markdown",
   "metadata": {},
   "source": [
    "# **<u>Flujo de trabajo para crear cuadrículas de 100 x 100 m</u>**\n",
    "\n",
    "---\n",
    "\n",
    "* La idea es crear cuadrículas de de 100 x 100 para los Espacios Naturales Protegidos de la isla de Gran Canaria usando Python, garantizando la reproducibilidad de la creación de estas cuadrículas. \n",
    "\n",
    "---"
   ]
  },
  {
   "cell_type": "code",
   "execution_count": 1,
   "metadata": {},
   "outputs": [],
   "source": [
    "## Librerías a usar:\n",
    "import os\n",
    "import requests\n",
    "from zipfile import ZipFile\n",
    "import geopandas as gpd\n",
    "import pandas as pd\n",
    "from shapely.geometry import box\n",
    "import fiona"
   ]
  },
  {
   "cell_type": "code",
   "execution_count": 2,
   "metadata": {},
   "outputs": [],
   "source": [
    "## Se usará el paquete de fiona para poder pasar los archivos SHP a KML\n",
    "fiona.supported_drivers['KML'] = 'rw'"
   ]
  },
  {
   "cell_type": "markdown",
   "metadata": {},
   "source": [
    "## **Descargar datos IDECanarias**\n",
    "\n",
    "### Capa a usar: <u>**Red de Espacios Naturales Protegidos de Canarias (ENP)**</u>"
   ]
  },
  {
   "cell_type": "code",
   "execution_count": 18,
   "metadata": {},
   "outputs": [
    {
     "name": "stdout",
     "output_type": "stream",
     "text": [
      "\n",
      "> Archivos  descargado y descomprimido en 'data/enps_canarias/'\n",
      "> esta es la lista de los archivos de la carpeta: \n",
      "['eennpp.dbf', 'eennpp.prj', 'eennpp.shp', 'eennpp.shx', 'enp.zip']\n",
      "\n"
     ]
    }
   ],
   "source": [
    "## Variables para la descarga de datos definiendo rutas y URL del archivo\n",
    "url_enp = \"https://opendata.sitcan.es/upload/medio-ambiente/eennpp.zip\"\n",
    "carpeta_data = \"data/\"\n",
    "carpeta_destino = \"data/enps_canarias/\"\n",
    "ruta_zip = os.path.join(carpeta_data, \"enps_canarias/enp.zip\")\n",
    "\n",
    "## Creamos la carpeta de destino (\"data\") si todavía no existe\n",
    "for carpeta in [carpeta_data, carpeta_destino]:\n",
    "    os.makedirs(carpeta, exist_ok=True)\n",
    "\n",
    "## Proceso para descargar el archivo\n",
    "response = requests.get(url=url_enp)\n",
    "with open(ruta_zip, \"wb\") as file:\n",
    "    file.write(response.content)\n",
    "\n",
    "## Proceso para descomprimir el archivo\n",
    "with ZipFile(ruta_zip, \"r\") as archivo_zip:\n",
    "    archivo_zip.extractall(carpeta_destino)\n",
    "\n",
    "print(f\"\"\"\n",
    "> Archivos  descargado y descomprimido en '{carpeta_destino}'\n",
    "> esta es la lista de los archivos de la carpeta: \n",
    "{os.listdir(\"data/enps_canarias/\")}\n",
    "\"\"\")"
   ]
  },
  {
   "cell_type": "markdown",
   "metadata": {},
   "source": [
    "## **Preprocesado de la capa SHP**\n",
    "\n",
    "* Se filtrará de la capa SHP de los ENP de Canarias para obtener específicamente un archivo SHP de los <u>**ENP de Gran Canaria**</u>"
   ]
  },
  {
   "cell_type": "code",
   "execution_count": 24,
   "metadata": {},
   "outputs": [
    {
     "data": {
      "text/html": [
       "<div>\n",
       "<style scoped>\n",
       "    .dataframe tbody tr th:only-of-type {\n",
       "        vertical-align: middle;\n",
       "    }\n",
       "\n",
       "    .dataframe tbody tr th {\n",
       "        vertical-align: top;\n",
       "    }\n",
       "\n",
       "    .dataframe thead th {\n",
       "        text-align: right;\n",
       "    }\n",
       "</style>\n",
       "<table border=\"1\" class=\"dataframe\">\n",
       "  <thead>\n",
       "    <tr style=\"text-align: right;\">\n",
       "      <th></th>\n",
       "      <th>codigo</th>\n",
       "      <th>categoria</th>\n",
       "      <th>nombre</th>\n",
       "      <th>geometry</th>\n",
       "    </tr>\n",
       "  </thead>\n",
       "  <tbody>\n",
       "    <tr>\n",
       "      <th>0</th>\n",
       "      <td>H-6</td>\n",
       "      <td>Paisaje Protegido</td>\n",
       "      <td>Ventejís</td>\n",
       "      <td>POLYGON ((207380.300 3077264.524, 207361.430 3...</td>\n",
       "    </tr>\n",
       "    <tr>\n",
       "      <th>1</th>\n",
       "      <td>H-7</td>\n",
       "      <td>Paisaje Protegido</td>\n",
       "      <td>Timijiraque</td>\n",
       "      <td>POLYGON ((212318.690 3076408.720, 212322.130 3...</td>\n",
       "    </tr>\n",
       "    <tr>\n",
       "      <th>2</th>\n",
       "      <td>H-3</td>\n",
       "      <td>Reserva Natural Especial</td>\n",
       "      <td>Tibataje</td>\n",
       "      <td>POLYGON ((205028.180 3074960.459, 205020.849 3...</td>\n",
       "    </tr>\n",
       "    <tr>\n",
       "      <th>3</th>\n",
       "      <td>H-2</td>\n",
       "      <td>Reserva Natural Integral</td>\n",
       "      <td>Roques de Salmor</td>\n",
       "      <td>MULTIPOLYGON (((205086.150 3081134.320, 205088...</td>\n",
       "    </tr>\n",
       "    <tr>\n",
       "      <th>4</th>\n",
       "      <td>H-5</td>\n",
       "      <td>Monumento Natural</td>\n",
       "      <td>Las Playas</td>\n",
       "      <td>MULTIPOLYGON (((209998.290 3070692.910, 209998...</td>\n",
       "    </tr>\n",
       "  </tbody>\n",
       "</table>\n",
       "</div>"
      ],
      "text/plain": [
       "  codigo                 categoria            nombre  \\\n",
       "0    H-6         Paisaje Protegido          Ventejís   \n",
       "1    H-7         Paisaje Protegido       Timijiraque   \n",
       "2    H-3  Reserva Natural Especial          Tibataje   \n",
       "3    H-2  Reserva Natural Integral  Roques de Salmor   \n",
       "4    H-5         Monumento Natural        Las Playas   \n",
       "\n",
       "                                            geometry  \n",
       "0  POLYGON ((207380.300 3077264.524, 207361.430 3...  \n",
       "1  POLYGON ((212318.690 3076408.720, 212322.130 3...  \n",
       "2  POLYGON ((205028.180 3074960.459, 205020.849 3...  \n",
       "3  MULTIPOLYGON (((205086.150 3081134.320, 205088...  \n",
       "4  MULTIPOLYGON (((209998.290 3070692.910, 209998...  "
      ]
     },
     "execution_count": 24,
     "metadata": {},
     "output_type": "execute_result"
    }
   ],
   "source": [
    "## Cargamos los datos de los ENP de Canarias\n",
    "enps_canarias = gpd.read_file(\"data/enps_canarias/eennpp.shp\")\n",
    "enps_canarias.head() ## vemos los primeros valores"
   ]
  },
  {
   "cell_type": "code",
   "execution_count": 28,
   "metadata": {},
   "outputs": [
    {
     "data": {
      "text/html": [
       "<div>\n",
       "<style scoped>\n",
       "    .dataframe tbody tr th:only-of-type {\n",
       "        vertical-align: middle;\n",
       "    }\n",
       "\n",
       "    .dataframe tbody tr th {\n",
       "        vertical-align: top;\n",
       "    }\n",
       "\n",
       "    .dataframe thead th {\n",
       "        text-align: right;\n",
       "    }\n",
       "</style>\n",
       "<table border=\"1\" class=\"dataframe\">\n",
       "  <thead>\n",
       "    <tr style=\"text-align: right;\">\n",
       "      <th></th>\n",
       "      <th>codigo</th>\n",
       "      <th>categoria</th>\n",
       "      <th>nombre</th>\n",
       "      <th>geometry</th>\n",
       "    </tr>\n",
       "  </thead>\n",
       "  <tbody>\n",
       "    <tr>\n",
       "      <th>20</th>\n",
       "      <td>C-32</td>\n",
       "      <td>Sitio de Interés Científico</td>\n",
       "      <td>Juncalillo del Sur</td>\n",
       "      <td>POLYGON ((453679.696 3074570.097, 453669.984 3...</td>\n",
       "    </tr>\n",
       "    <tr>\n",
       "      <th>21</th>\n",
       "      <td>C-31</td>\n",
       "      <td>Sitio de Interés Científico</td>\n",
       "      <td>Roque de Gando</td>\n",
       "      <td>POLYGON ((464665.536 3090497.440, 464658.994 3...</td>\n",
       "    </tr>\n",
       "    <tr>\n",
       "      <th>22</th>\n",
       "      <td>C-30</td>\n",
       "      <td>Sitio de Interés Científico</td>\n",
       "      <td>Tufia</td>\n",
       "      <td>POLYGON ((462277.610 3093302.880, 462281.280 3...</td>\n",
       "    </tr>\n",
       "    <tr>\n",
       "      <th>23</th>\n",
       "      <td>C-29</td>\n",
       "      <td>Sitio de Interés Científico</td>\n",
       "      <td>Jinámar</td>\n",
       "      <td>POLYGON ((460256.224 3101297.088, 460260.274 3...</td>\n",
       "    </tr>\n",
       "    <tr>\n",
       "      <th>24</th>\n",
       "      <td>C-28</td>\n",
       "      <td>Paisaje Protegido</td>\n",
       "      <td>Montaña de Agüimes</td>\n",
       "      <td>POLYGON ((458220.295 3087279.345, 458220.210 3...</td>\n",
       "    </tr>\n",
       "  </tbody>\n",
       "</table>\n",
       "</div>"
      ],
      "text/plain": [
       "   codigo                    categoria              nombre  \\\n",
       "20   C-32  Sitio de Interés Científico  Juncalillo del Sur   \n",
       "21   C-31  Sitio de Interés Científico      Roque de Gando   \n",
       "22   C-30  Sitio de Interés Científico               Tufia   \n",
       "23   C-29  Sitio de Interés Científico             Jinámar   \n",
       "24   C-28            Paisaje Protegido  Montaña de Agüimes   \n",
       "\n",
       "                                             geometry  \n",
       "20  POLYGON ((453679.696 3074570.097, 453669.984 3...  \n",
       "21  POLYGON ((464665.536 3090497.440, 464658.994 3...  \n",
       "22  POLYGON ((462277.610 3093302.880, 462281.280 3...  \n",
       "23  POLYGON ((460256.224 3101297.088, 460260.274 3...  \n",
       "24  POLYGON ((458220.295 3087279.345, 458220.210 3...  "
      ]
     },
     "execution_count": 28,
     "metadata": {},
     "output_type": "execute_result"
    }
   ],
   "source": [
    "## Filtramos del campo \"codigo\" aquellos que empiecen por la letra \"C\" (Gran Canaria)\n",
    "enps_gran_canaria = enps_canarias[enps_canarias[\"codigo\"].str.startswith(\"C\")]\n",
    "## Vemos de nuevo los primeros valores para ver los valores \"C\" de Gran Canaria en \"codigo\" \n",
    "enps_gran_canaria.head()"
   ]
  },
  {
   "cell_type": "markdown",
   "metadata": {},
   "source": [
    "## **Procesado de la capa anterior**"
   ]
  },
  {
   "cell_type": "code",
   "execution_count": 30,
   "metadata": {},
   "outputs": [],
   "source": [
    "filtrado1 = enps_gran_canaria[enps_gran_canaria[\"codigo\"].isin([\n",
    "      \"C-01\", \"C-21\", \"C-20\", \n",
    "      \"C-14\", \"C-15\", \"C-02\", \n",
    "      \"C-05\", \"C-04\"\n",
    "])] \n",
    "\n",
    "filtrado2 = gpd.overlay(enps_gran_canaria, filtrado1, how=\"difference\")\n",
    "\n",
    "enps_gran_canaria_procesado = pd.concat([filtrado1, filtrado2], ignore_index=True)"
   ]
  },
  {
   "cell_type": "markdown",
   "metadata": {},
   "source": [
    "### **Crear la capa de cuadrículas**\n",
    "\n",
    "* Se hará una función para cuyo objetivo sea la creación de una capa de cuadrículas para un GeoDataFrame especificado"
   ]
  },
  {
   "cell_type": "code",
   "execution_count": 31,
   "metadata": {},
   "outputs": [],
   "source": [
    "def crear_cuadriculas(gdf):\n",
    "    # Crear las separaciones para los municipios de Gran Canaria\n",
    "    minx, miny, maxx, maxy = gdf.total_bounds\n",
    "\n",
    "    # Generar una lista con las cuadrículas\n",
    "    boxes = []\n",
    "    x = minx\n",
    "    while x < maxx:\n",
    "        y = miny\n",
    "        while y < maxy:\n",
    "            boxes.append(box(x, y, x + 100, y + 100))\n",
    "            y += 100\n",
    "        x += 100\n",
    "\n",
    "    grid = gpd.GeoDataFrame({'geometry': boxes}, crs=gdf.crs)\n",
    "\n",
    "    return grid"
   ]
  },
  {
   "cell_type": "markdown",
   "metadata": {},
   "source": [
    "Con la función anterior, crearemos los **<u>KML</u>** para cada uno de los espacios con cuadrículas de 100 x 100 metros.  "
   ]
  },
  {
   "cell_type": "code",
   "execution_count": 34,
   "metadata": {},
   "outputs": [],
   "source": [
    "os.makedirs(\"results/\", exist_ok=True)\n",
    "\n",
    "for codigo in enps_gran_canaria_procesado[\"codigo\"].unique():\n",
    "    enp_unico = enps_gran_canaria_procesado[enps_gran_canaria_procesado[\"codigo\"] == codigo]\n",
    "    enp_grid = crear_cuadriculas(enp_unico)\n",
    "    enp_grid = enp_grid[enp_grid.intersects(enp_unico.unary_union)]\n",
    "    enp_grid_union = gpd.overlay(enp_unico, enp_grid, how=\"union\", keep_geom_type=True)\n",
    "    enp_grid_union.to_file(f\"results/{codigo}.kml\", driver='KML')\n"
   ]
  }
 ],
 "metadata": {
  "kernelspec": {
   "display_name": "Python 3",
   "language": "python",
   "name": "python3"
  },
  "language_info": {
   "codemirror_mode": {
    "name": "ipython",
    "version": 3
   },
   "file_extension": ".py",
   "mimetype": "text/x-python",
   "name": "python",
   "nbconvert_exporter": "python",
   "pygments_lexer": "ipython3",
   "version": "3.12.7"
  }
 },
 "nbformat": 4,
 "nbformat_minor": 2
}
