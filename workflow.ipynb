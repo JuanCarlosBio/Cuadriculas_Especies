{
 "cells": [
  {
   "cell_type": "markdown",
   "metadata": {},
   "source": [
    "# **<u>Flujo de trabajo para crear cuadrículas con Python</u>**\n",
    "\n",
    "---\n",
    "\n",
    "* La idea es crear cuadrículas para los Espacios Naturales Protegidos de la isla de Gran Canaria usando Python, garantizando la reproducibilidad de la creación de estas cuadrículas. \n",
    "\n",
    "---"
   ]
  },
  {
   "cell_type": "code",
   "execution_count": 3,
   "metadata": {},
   "outputs": [],
   "source": [
    "## Librerías a usar:\n",
    "import os\n",
    "import requests\n",
    "from zipfile import ZipFile\n",
    "import geopandas as gpd\n",
    "import pandas as pd\n",
    "from shapely.geometry import box"
   ]
  },
  {
   "cell_type": "markdown",
   "metadata": {},
   "source": [
    "## **Descargar datos IDECanarias y REGCAN95 1 Km**\n",
    "\n",
    "### Capa a usar: <u>**Red de Espacios Naturales Protegidos de Canarias (ENP)**</u>\n",
    "\n",
    "Además descargar la malla de **REGCAN95** que es la malla (en este caso usaremos cuadrículas 1 x 1Km) que usa Biota para la creación de las cuadrículas 500 x 500 m. \n",
    "\n",
    "* *La suma de la capa del Espacio Natural Protegido + la malla REGCAN95 se usarán como base para crear las cuadrículas.*"
   ]
  },
  {
   "cell_type": "code",
   "execution_count": 4,
   "metadata": {},
   "outputs": [
    {
     "name": "stdout",
     "output_type": "stream",
     "text": [
      "\n",
      "> Archivos  descargado y descomprimido en 'data/enps_canarias/'\n",
      "> esta es la lista de los archivos de la carpeta: \n",
      "['eennpp.dbf', 'eennpp.prj', 'eennpp.shp', 'eennpp.shx', 'enp.zip', 'malla.zip', 'malla1x1_70.dbf', 'malla1x1_70.prj', 'malla1x1_70.sbn', 'malla1x1_70.sbx', 'malla1x1_70.shp', 'malla1x1_70.shp.xml', 'malla1x1_70.shx']\n",
      "\n"
     ]
    }
   ],
   "source": [
    "## Variables para la descarga de datos definiendo rutas y URL del archivo\n",
    "# URL de los ENP en IDECanarias, datos públicos\n",
    "url_enp = \"https://opendata.sitcan.es/upload/medio-ambiente/eennpp.zip\"\n",
    "# URL de la Malla 1 km x 1km\n",
    "url_malla = \"https://www.miteco.gob.es/content/dam/miteco/es/biodiversidad/servicios/banco-datos-naturaleza/malla1x1_70_tcm30-199176.zip\"\n",
    "carpeta_data = \"data/\"\n",
    "carpeta_destino = \"data/enps_canarias/\"\n",
    "ruta_zip_enps = os.path.join(carpeta_data, \"enps_canarias/enp.zip\")\n",
    "ruta_zip_grid = os.path.join(carpeta_data, \"enps_canarias/malla.zip\")\n",
    "\n",
    "def download_data(url, ruta_zip):\n",
    "    ## Creamos la carpeta de destino (\"data\") si todavía no existe\n",
    "    for carpeta in [carpeta_data, carpeta_destino]:\n",
    "        os.makedirs(carpeta, exist_ok=True)\n",
    "\n",
    "    ## Proceso para descargar el archivo\n",
    "    response = requests.get(url=url)\n",
    "    with open(ruta_zip, \"wb\") as file:\n",
    "        file.write(response.content)\n",
    "\n",
    "    ## Proceso para descomprimir el archivo\n",
    "    with ZipFile(ruta_zip, \"r\") as archivo_zip:\n",
    "        archivo_zip.extractall(carpeta_destino)\n",
    "\n",
    "for url,ruta in zip([url_enp, url_malla], [ruta_zip_enps, ruta_zip_grid]):\n",
    "    download_data(url=url, ruta_zip=ruta)\n",
    "\n",
    "print(f\"\"\"\n",
    "> Archivos  descargado y descomprimido en '{carpeta_destino}'\n",
    "> esta es la lista de los archivos de la carpeta: \n",
    "{os.listdir(\"data/enps_canarias/\")}\n",
    "\"\"\")"
   ]
  },
  {
   "cell_type": "markdown",
   "metadata": {},
   "source": [
    "## **Preprocesado de la capa SHP**\n",
    "\n",
    "1. Se filtrará de la capa SHP de los ENP de Canarias para obtener específicamente un archivo SHP de los <u>**ENP de Gran Canaria**</u>\n",
    "\n",
    "2. Se filtrará de la Malla REGCAN 1 x 1 Km aquellas que coincidan con el **<u>ENP seleccionado</u>**"
   ]
  },
  {
   "cell_type": "code",
   "execution_count": 5,
   "metadata": {},
   "outputs": [
    {
     "data": {
      "text/html": [
       "<div>\n",
       "<style scoped>\n",
       "    .dataframe tbody tr th:only-of-type {\n",
       "        vertical-align: middle;\n",
       "    }\n",
       "\n",
       "    .dataframe tbody tr th {\n",
       "        vertical-align: top;\n",
       "    }\n",
       "\n",
       "    .dataframe thead th {\n",
       "        text-align: right;\n",
       "    }\n",
       "</style>\n",
       "<table border=\"1\" class=\"dataframe\">\n",
       "  <thead>\n",
       "    <tr style=\"text-align: right;\">\n",
       "      <th></th>\n",
       "      <th>OBJECTID</th>\n",
       "      <th>X</th>\n",
       "      <th>Y</th>\n",
       "      <th>HUSO</th>\n",
       "      <th>ZONA</th>\n",
       "      <th>CUADRI100</th>\n",
       "      <th>CUADRI10</th>\n",
       "      <th>NUTM</th>\n",
       "      <th>COD100X100</th>\n",
       "      <th>COD10X10</th>\n",
       "      <th>...</th>\n",
       "      <th>UTMCODE1X1</th>\n",
       "      <th>COD1X1</th>\n",
       "      <th>PERIM_KM</th>\n",
       "      <th>AREA_KM2</th>\n",
       "      <th>COD_INB</th>\n",
       "      <th>XCENTROIDE</th>\n",
       "      <th>YCENTROIDE</th>\n",
       "      <th>Shape_Leng</th>\n",
       "      <th>Shape_Area</th>\n",
       "      <th>geometry</th>\n",
       "    </tr>\n",
       "  </thead>\n",
       "  <tbody>\n",
       "    <tr>\n",
       "      <th>0</th>\n",
       "      <td>1</td>\n",
       "      <td>4</td>\n",
       "      <td>5</td>\n",
       "      <td>28</td>\n",
       "      <td>R</td>\n",
       "      <td>FT</td>\n",
       "      <td>45</td>\n",
       "      <td>4455</td>\n",
       "      <td>28RFT</td>\n",
       "      <td>28RFT45</td>\n",
       "      <td>...</td>\n",
       "      <td>FT4455</td>\n",
       "      <td>28RFT4455</td>\n",
       "      <td>4.0</td>\n",
       "      <td>1.0</td>\n",
       "      <td>28RFT4455</td>\n",
       "      <td>644500.0</td>\n",
       "      <td>3255500.0</td>\n",
       "      <td>4000.0</td>\n",
       "      <td>1000000.0</td>\n",
       "      <td>POLYGON ((644000.000 3256000.000, 645000.000 3...</td>\n",
       "    </tr>\n",
       "    <tr>\n",
       "      <th>1</th>\n",
       "      <td>2</td>\n",
       "      <td>5</td>\n",
       "      <td>5</td>\n",
       "      <td>28</td>\n",
       "      <td>R</td>\n",
       "      <td>FT</td>\n",
       "      <td>45</td>\n",
       "      <td>4555</td>\n",
       "      <td>28RFT</td>\n",
       "      <td>28RFT45</td>\n",
       "      <td>...</td>\n",
       "      <td>FT4555</td>\n",
       "      <td>28RFT4555</td>\n",
       "      <td>4.0</td>\n",
       "      <td>1.0</td>\n",
       "      <td>28RFT4555</td>\n",
       "      <td>645500.0</td>\n",
       "      <td>3255500.0</td>\n",
       "      <td>4000.0</td>\n",
       "      <td>1000000.0</td>\n",
       "      <td>POLYGON ((645000.000 3256000.000, 646000.000 3...</td>\n",
       "    </tr>\n",
       "    <tr>\n",
       "      <th>2</th>\n",
       "      <td>3</td>\n",
       "      <td>3</td>\n",
       "      <td>4</td>\n",
       "      <td>28</td>\n",
       "      <td>R</td>\n",
       "      <td>FT</td>\n",
       "      <td>45</td>\n",
       "      <td>4354</td>\n",
       "      <td>28RFT</td>\n",
       "      <td>28RFT45</td>\n",
       "      <td>...</td>\n",
       "      <td>FT4354</td>\n",
       "      <td>28RFT4354</td>\n",
       "      <td>4.0</td>\n",
       "      <td>1.0</td>\n",
       "      <td>28RFT4354</td>\n",
       "      <td>643500.0</td>\n",
       "      <td>3254500.0</td>\n",
       "      <td>4000.0</td>\n",
       "      <td>1000000.0</td>\n",
       "      <td>POLYGON ((643000.000 3255000.000, 644000.000 3...</td>\n",
       "    </tr>\n",
       "  </tbody>\n",
       "</table>\n",
       "<p>3 rows × 21 columns</p>\n",
       "</div>"
      ],
      "text/plain": [
       "   OBJECTID  X  Y  HUSO ZONA CUADRI100 CUADRI10  NUTM COD100X100 COD10X10  \\\n",
       "0         1  4  5    28    R        FT       45  4455      28RFT  28RFT45   \n",
       "1         2  5  5    28    R        FT       45  4555      28RFT  28RFT45   \n",
       "2         3  3  4    28    R        FT       45  4354      28RFT  28RFT45   \n",
       "\n",
       "   ... UTMCODE1X1     COD1X1 PERIM_KM  AREA_KM2    COD_INB XCENTROIDE  \\\n",
       "0  ...     FT4455  28RFT4455      4.0       1.0  28RFT4455   644500.0   \n",
       "1  ...     FT4555  28RFT4555      4.0       1.0  28RFT4555   645500.0   \n",
       "2  ...     FT4354  28RFT4354      4.0       1.0  28RFT4354   643500.0   \n",
       "\n",
       "   YCENTROIDE  Shape_Leng  Shape_Area  \\\n",
       "0   3255500.0      4000.0   1000000.0   \n",
       "1   3255500.0      4000.0   1000000.0   \n",
       "2   3254500.0      4000.0   1000000.0   \n",
       "\n",
       "                                            geometry  \n",
       "0  POLYGON ((644000.000 3256000.000, 645000.000 3...  \n",
       "1  POLYGON ((645000.000 3256000.000, 646000.000 3...  \n",
       "2  POLYGON ((643000.000 3255000.000, 644000.000 3...  \n",
       "\n",
       "[3 rows x 21 columns]"
      ]
     },
     "execution_count": 5,
     "metadata": {},
     "output_type": "execute_result"
    }
   ],
   "source": [
    "## Leemos la capa de la malla 1 x 1 Km\n",
    "grid = gpd.read_file(\"data/enps_canarias/malla1x1_70.shp\")\n",
    "grid.head(n = 3)"
   ]
  },
  {
   "cell_type": "code",
   "execution_count": 6,
   "metadata": {},
   "outputs": [
    {
     "data": {
      "text/html": [
       "<div>\n",
       "<style scoped>\n",
       "    .dataframe tbody tr th:only-of-type {\n",
       "        vertical-align: middle;\n",
       "    }\n",
       "\n",
       "    .dataframe tbody tr th {\n",
       "        vertical-align: top;\n",
       "    }\n",
       "\n",
       "    .dataframe thead th {\n",
       "        text-align: right;\n",
       "    }\n",
       "</style>\n",
       "<table border=\"1\" class=\"dataframe\">\n",
       "  <thead>\n",
       "    <tr style=\"text-align: right;\">\n",
       "      <th></th>\n",
       "      <th>codigo</th>\n",
       "      <th>categoria</th>\n",
       "      <th>nombre</th>\n",
       "      <th>geometry</th>\n",
       "    </tr>\n",
       "  </thead>\n",
       "  <tbody>\n",
       "    <tr>\n",
       "      <th>0</th>\n",
       "      <td>H-6</td>\n",
       "      <td>Paisaje Protegido</td>\n",
       "      <td>Ventejís</td>\n",
       "      <td>POLYGON ((207380.300 3077264.524, 207361.430 3...</td>\n",
       "    </tr>\n",
       "    <tr>\n",
       "      <th>1</th>\n",
       "      <td>H-7</td>\n",
       "      <td>Paisaje Protegido</td>\n",
       "      <td>Timijiraque</td>\n",
       "      <td>POLYGON ((212318.690 3076408.720, 212322.130 3...</td>\n",
       "    </tr>\n",
       "    <tr>\n",
       "      <th>2</th>\n",
       "      <td>H-3</td>\n",
       "      <td>Reserva Natural Especial</td>\n",
       "      <td>Tibataje</td>\n",
       "      <td>POLYGON ((205028.180 3074960.459, 205020.849 3...</td>\n",
       "    </tr>\n",
       "    <tr>\n",
       "      <th>3</th>\n",
       "      <td>H-2</td>\n",
       "      <td>Reserva Natural Integral</td>\n",
       "      <td>Roques de Salmor</td>\n",
       "      <td>MULTIPOLYGON (((205086.150 3081134.320, 205088...</td>\n",
       "    </tr>\n",
       "    <tr>\n",
       "      <th>4</th>\n",
       "      <td>H-5</td>\n",
       "      <td>Monumento Natural</td>\n",
       "      <td>Las Playas</td>\n",
       "      <td>MULTIPOLYGON (((209998.290 3070692.910, 209998...</td>\n",
       "    </tr>\n",
       "  </tbody>\n",
       "</table>\n",
       "</div>"
      ],
      "text/plain": [
       "  codigo                 categoria            nombre  \\\n",
       "0    H-6         Paisaje Protegido          Ventejís   \n",
       "1    H-7         Paisaje Protegido       Timijiraque   \n",
       "2    H-3  Reserva Natural Especial          Tibataje   \n",
       "3    H-2  Reserva Natural Integral  Roques de Salmor   \n",
       "4    H-5         Monumento Natural        Las Playas   \n",
       "\n",
       "                                            geometry  \n",
       "0  POLYGON ((207380.300 3077264.524, 207361.430 3...  \n",
       "1  POLYGON ((212318.690 3076408.720, 212322.130 3...  \n",
       "2  POLYGON ((205028.180 3074960.459, 205020.849 3...  \n",
       "3  MULTIPOLYGON (((205086.150 3081134.320, 205088...  \n",
       "4  MULTIPOLYGON (((209998.290 3070692.910, 209998...  "
      ]
     },
     "execution_count": 6,
     "metadata": {},
     "output_type": "execute_result"
    }
   ],
   "source": [
    "## Cargamos los datos de los ENP de Canarias\n",
    "enps_canarias = gpd.read_file(\"data/enps_canarias/eennpp.shp\")\n",
    "enps_canarias.head() ## vemos los primeros valores"
   ]
  },
  {
   "cell_type": "code",
   "execution_count": 7,
   "metadata": {},
   "outputs": [
    {
     "data": {
      "text/html": [
       "<div>\n",
       "<style scoped>\n",
       "    .dataframe tbody tr th:only-of-type {\n",
       "        vertical-align: middle;\n",
       "    }\n",
       "\n",
       "    .dataframe tbody tr th {\n",
       "        vertical-align: top;\n",
       "    }\n",
       "\n",
       "    .dataframe thead th {\n",
       "        text-align: right;\n",
       "    }\n",
       "</style>\n",
       "<table border=\"1\" class=\"dataframe\">\n",
       "  <thead>\n",
       "    <tr style=\"text-align: right;\">\n",
       "      <th></th>\n",
       "      <th>codigo</th>\n",
       "      <th>categoria</th>\n",
       "      <th>nombre</th>\n",
       "      <th>geometry</th>\n",
       "    </tr>\n",
       "  </thead>\n",
       "  <tbody>\n",
       "    <tr>\n",
       "      <th>20</th>\n",
       "      <td>C-32</td>\n",
       "      <td>Sitio de Interés Científico</td>\n",
       "      <td>Juncalillo del Sur</td>\n",
       "      <td>POLYGON ((453679.696 3074570.097, 453669.984 3...</td>\n",
       "    </tr>\n",
       "    <tr>\n",
       "      <th>21</th>\n",
       "      <td>C-31</td>\n",
       "      <td>Sitio de Interés Científico</td>\n",
       "      <td>Roque de Gando</td>\n",
       "      <td>POLYGON ((464665.536 3090497.440, 464658.994 3...</td>\n",
       "    </tr>\n",
       "    <tr>\n",
       "      <th>22</th>\n",
       "      <td>C-30</td>\n",
       "      <td>Sitio de Interés Científico</td>\n",
       "      <td>Tufia</td>\n",
       "      <td>POLYGON ((462277.610 3093302.880, 462281.280 3...</td>\n",
       "    </tr>\n",
       "    <tr>\n",
       "      <th>23</th>\n",
       "      <td>C-29</td>\n",
       "      <td>Sitio de Interés Científico</td>\n",
       "      <td>Jinámar</td>\n",
       "      <td>POLYGON ((460256.224 3101297.088, 460260.274 3...</td>\n",
       "    </tr>\n",
       "    <tr>\n",
       "      <th>24</th>\n",
       "      <td>C-28</td>\n",
       "      <td>Paisaje Protegido</td>\n",
       "      <td>Montaña de Agüimes</td>\n",
       "      <td>POLYGON ((458220.295 3087279.345, 458220.210 3...</td>\n",
       "    </tr>\n",
       "  </tbody>\n",
       "</table>\n",
       "</div>"
      ],
      "text/plain": [
       "   codigo                    categoria              nombre  \\\n",
       "20   C-32  Sitio de Interés Científico  Juncalillo del Sur   \n",
       "21   C-31  Sitio de Interés Científico      Roque de Gando   \n",
       "22   C-30  Sitio de Interés Científico               Tufia   \n",
       "23   C-29  Sitio de Interés Científico             Jinámar   \n",
       "24   C-28            Paisaje Protegido  Montaña de Agüimes   \n",
       "\n",
       "                                             geometry  \n",
       "20  POLYGON ((453679.696 3074570.097, 453669.984 3...  \n",
       "21  POLYGON ((464665.536 3090497.440, 464658.994 3...  \n",
       "22  POLYGON ((462277.610 3093302.880, 462281.280 3...  \n",
       "23  POLYGON ((460256.224 3101297.088, 460260.274 3...  \n",
       "24  POLYGON ((458220.295 3087279.345, 458220.210 3...  "
      ]
     },
     "execution_count": 7,
     "metadata": {},
     "output_type": "execute_result"
    }
   ],
   "source": [
    "## Filtramos del campo \"codigo\" aquellos que empiecen por la letra \"C\" (Gran Canaria)\n",
    "enps_gran_canaria = enps_canarias[enps_canarias[\"codigo\"].str.startswith(\"C\")]\n",
    "## Vemos de nuevo los primeros valores para ver los valores \"C\" de Gran Canaria en \"codigo\" \n",
    "enps_gran_canaria.head()"
   ]
  },
  {
   "cell_type": "markdown",
   "metadata": {},
   "source": [
    "## **Procesado de la capa anterior**\n",
    "\n",
    "Debido a que algunos espacios se superponen con otros y dan resultados extraños"
   ]
  },
  {
   "cell_type": "code",
   "execution_count": 8,
   "metadata": {},
   "outputs": [
    {
     "data": {
      "text/html": [
       "<div>\n",
       "<style scoped>\n",
       "    .dataframe tbody tr th:only-of-type {\n",
       "        vertical-align: middle;\n",
       "    }\n",
       "\n",
       "    .dataframe tbody tr th {\n",
       "        vertical-align: top;\n",
       "    }\n",
       "\n",
       "    .dataframe thead th {\n",
       "        text-align: right;\n",
       "    }\n",
       "</style>\n",
       "<table border=\"1\" class=\"dataframe\">\n",
       "  <thead>\n",
       "    <tr style=\"text-align: right;\">\n",
       "      <th></th>\n",
       "      <th>codigo</th>\n",
       "      <th>categoria</th>\n",
       "      <th>nombre</th>\n",
       "      <th>geometry</th>\n",
       "    </tr>\n",
       "  </thead>\n",
       "  <tbody>\n",
       "    <tr>\n",
       "      <th>0</th>\n",
       "      <td>C-15</td>\n",
       "      <td>Monumento Natural</td>\n",
       "      <td>Montañón Negro</td>\n",
       "      <td>POLYGON ((438770.784 3102164.576, 438768.340 3...</td>\n",
       "    </tr>\n",
       "    <tr>\n",
       "      <th>1</th>\n",
       "      <td>C-14</td>\n",
       "      <td>Monumento Natural</td>\n",
       "      <td>Bandama</td>\n",
       "      <td>POLYGON ((454972.768 3102114.880, 454980.146 3...</td>\n",
       "    </tr>\n",
       "    <tr>\n",
       "      <th>2</th>\n",
       "      <td>C-05</td>\n",
       "      <td>Reserva Natural Especial</td>\n",
       "      <td>Los Tilos de Moya</td>\n",
       "      <td>POLYGON ((441378.976 3107781.184, 441376.329 3...</td>\n",
       "    </tr>\n",
       "    <tr>\n",
       "      <th>3</th>\n",
       "      <td>C-20</td>\n",
       "      <td>Monumento Natural</td>\n",
       "      <td>Riscos de Tirajana</td>\n",
       "      <td>POLYGON ((443999.731 3093268.623, 443999.500 3...</td>\n",
       "    </tr>\n",
       "    <tr>\n",
       "      <th>4</th>\n",
       "      <td>C-04</td>\n",
       "      <td>Reserva Natural Especial</td>\n",
       "      <td>Azuaje</td>\n",
       "      <td>POLYGON ((443793.984 3109274.592, 443797.298 3...</td>\n",
       "    </tr>\n",
       "  </tbody>\n",
       "</table>\n",
       "</div>"
      ],
      "text/plain": [
       "  codigo                 categoria              nombre  \\\n",
       "0   C-15         Monumento Natural      Montañón Negro   \n",
       "1   C-14         Monumento Natural             Bandama   \n",
       "2   C-05  Reserva Natural Especial   Los Tilos de Moya   \n",
       "3   C-20         Monumento Natural  Riscos de Tirajana   \n",
       "4   C-04  Reserva Natural Especial              Azuaje   \n",
       "\n",
       "                                            geometry  \n",
       "0  POLYGON ((438770.784 3102164.576, 438768.340 3...  \n",
       "1  POLYGON ((454972.768 3102114.880, 454980.146 3...  \n",
       "2  POLYGON ((441378.976 3107781.184, 441376.329 3...  \n",
       "3  POLYGON ((443999.731 3093268.623, 443999.500 3...  \n",
       "4  POLYGON ((443793.984 3109274.592, 443797.298 3...  "
      ]
     },
     "execution_count": 8,
     "metadata": {},
     "output_type": "execute_result"
    }
   ],
   "source": [
    "filtrado1 = enps_gran_canaria[enps_gran_canaria[\"codigo\"].isin([\n",
    "      \"C-01\", \"C-21\", \"C-20\", \n",
    "      \"C-14\", \"C-15\", \"C-02\", \n",
    "      \"C-05\", \"C-04\"\n",
    "])] \n",
    "\n",
    "filtrado2 = gpd.overlay(enps_gran_canaria, filtrado1, how=\"difference\")\n",
    "\n",
    "enps_gran_canaria_procesado = pd.concat([filtrado1, filtrado2], ignore_index=True)\n",
    "\n",
    "enps_gran_canaria_procesado.head()"
   ]
  },
  {
   "cell_type": "code",
   "execution_count": 9,
   "metadata": {},
   "outputs": [
    {
     "data": {
      "text/html": [
       "<div>\n",
       "<style scoped>\n",
       "    .dataframe tbody tr th:only-of-type {\n",
       "        vertical-align: middle;\n",
       "    }\n",
       "\n",
       "    .dataframe tbody tr th {\n",
       "        vertical-align: top;\n",
       "    }\n",
       "\n",
       "    .dataframe thead th {\n",
       "        text-align: right;\n",
       "    }\n",
       "</style>\n",
       "<table border=\"1\" class=\"dataframe\">\n",
       "  <thead>\n",
       "    <tr style=\"text-align: right;\">\n",
       "      <th></th>\n",
       "      <th>codigo</th>\n",
       "      <th>categoria</th>\n",
       "      <th>nombre</th>\n",
       "      <th>geometry</th>\n",
       "    </tr>\n",
       "  </thead>\n",
       "  <tbody>\n",
       "    <tr>\n",
       "      <th>1</th>\n",
       "      <td>C-14</td>\n",
       "      <td>Monumento Natural</td>\n",
       "      <td>Bandama</td>\n",
       "      <td>POLYGON ((454972.768 3102114.880, 454980.146 3...</td>\n",
       "    </tr>\n",
       "  </tbody>\n",
       "</table>\n",
       "</div>"
      ],
      "text/plain": [
       "  codigo          categoria   nombre  \\\n",
       "1   C-14  Monumento Natural  Bandama   \n",
       "\n",
       "                                            geometry  \n",
       "1  POLYGON ((454972.768 3102114.880, 454980.146 3...  "
      ]
     },
     "execution_count": 9,
     "metadata": {},
     "output_type": "execute_result"
    }
   ],
   "source": [
    "## Selecciona el ENP que quiereas filtrar\n",
    "enp_seleccion = \"C-14\"\n",
    "\n",
    "enp_seleccionado = enps_gran_canaria_procesado[enps_gran_canaria_procesado[\"codigo\"] == enp_seleccion]\n",
    "\n",
    "## Tabla de Espacios que has seleccionado para generar cuadrículas\n",
    "enp_seleccionado"
   ]
  },
  {
   "cell_type": "code",
   "execution_count": 10,
   "metadata": {},
   "outputs": [
    {
     "data": {
      "text/plain": [
       "<Axes: >"
      ]
     },
     "execution_count": 10,
     "metadata": {},
     "output_type": "execute_result"
    },
    {
     "data": {
      "image/png": "[encoded data removed]",
      "text/plain": [
       "<Figure size 640x480 with 1 Axes>"
      ]
     },
     "metadata": {},
     "output_type": "display_data"
    }
   ],
   "source": [
    "## Filtrar la malla aquellas cuadrículas que coincidan con el ENP\n",
    "grid_filtrado = grid[grid.intersects(enp_seleccionado.unary_union)]\n",
    "grid_filtrado.plot()"
   ]
  },
  {
   "cell_type": "markdown",
   "metadata": {},
   "source": [
    "### **Crear la capa de cuadrículas**\n",
    "\n",
    "* Se hará una función para cuyo objetivo sea la creación de una capa de cuadrículas para un GeoDataFrame especificado"
   ]
  },
  {
   "cell_type": "code",
   "execution_count": 11,
   "metadata": {},
   "outputs": [],
   "source": [
    "def crear_cuadriculas(gdf, tamanio):\n",
    "    \"\"\"Resumen\n",
    "    Función para crear mapa de cuadrículas de espacios naturales protegidos\n",
    "\n",
    "    Args:\n",
    "        gdf (GeoDataFrame): GeoDataFrame de \n",
    "        tamanio (int): tamaño de las cuadrículas\n",
    "\n",
    "    Returns:\n",
    "        GeoDataFrame: GeoDataFrame del espacio protegido dividido en cuadrículas con tamaño específico\n",
    "    \"\"\"\n",
    "    # Crear las separaciones para los municipios de Gran Canaria\n",
    "    minx, miny, maxx, maxy = gdf.total_bounds\n",
    "\n",
    "    # Generar una lista con las cuadrículas\n",
    "    boxes = []\n",
    "    x = minx\n",
    "    while x < maxx:\n",
    "        y = miny\n",
    "        while y < maxy:\n",
    "            boxes.append(box(x, y, x + tamanio, y + tamanio))\n",
    "            y += tamanio\n",
    "        x += tamanio\n",
    "\n",
    "    grid = gpd.GeoDataFrame({'geometry': boxes}, crs=gdf.crs)\n",
    "\n",
    "    return grid"
   ]
  },
  {
   "cell_type": "markdown",
   "metadata": {},
   "source": [
    "## Crear una capa SHP de cuadrículas del espacio natural seleccionado\n",
    "\n",
    "\n",
    "Ejemplo para cuadrículas de 50 m x 50 m\n",
    "\n",
    "```\n",
    "## Seleccionar el tamaño de las cuadrículas. ej: 50 sería 50 m x 50 m \n",
    "tamanio = tamanio_cuadriculas = 50\n",
    "\n",
    "## Usamos la función para crear cuadrículas en el grid filtrado de 1 km x 1km en base al ENP seleccionado\n",
    "grid_selected = crear_cuadriculas(grid_filtrado, tamanio)\n",
    "## Filtramos las cuadrículas en contacto con el ENP ()\n",
    "enp_grid = grid_selected[grid_selected.intersects(enp_seleccionado.unary_union)]\n",
    "## Creamos una columna de valores con el número de cuadrículas \n",
    "enp_grid[\"cuadricula\"] = [\"cuadricula-\" + str(i) for i in range(1,(len(enp_grid) + 1),1)]\n",
    "## Descargamos el SHP\n",
    "enp_grid.to_file(f\"results/{enp_seleccion}.shp\")\n",
    "```"
   ]
  },
  {
   "cell_type": "code",
   "execution_count": 14,
   "metadata": {},
   "outputs": [
    {
     "name": "stderr",
     "output_type": "stream",
     "text": [
      "C:\\Users\\jcge9\\AppData\\Local\\Packages\\PythonSoftwareFoundation.Python.3.12_qbz5n2kfra8p0\\LocalCache\\local-packages\\Python312\\site-packages\\geopandas\\geodataframe.py:1543: SettingWithCopyWarning: \n",
      "A value is trying to be set on a copy of a slice from a DataFrame.\n",
      "Try using .loc[row_indexer,col_indexer] = value instead\n",
      "\n",
      "See the caveats in the documentation: https://pandas.pydata.org/pandas-docs/stable/user_guide/indexing.html#returning-a-view-versus-a-copy\n",
      "  super().__setitem__(key, value)\n"
     ]
    }
   ],
   "source": [
    "tamanio = tamanio_cuadriculas = 100\n",
    "\n",
    "grid_selected = crear_cuadriculas(grid_filtrado, tamanio)\n",
    "enp_grid = grid_selected[grid_selected.intersects(enp_seleccionado.unary_union)]\n",
    "enp_grid[\"cuadricula\"] = [\"cuadricula-\" + str(i) for i in range(1,(len(enp_grid) + 1),1)]\n",
    "enp_grid.to_file(f\"results/{enp_seleccion}.shp\")"
   ]
  },
  {
   "cell_type": "markdown",
   "metadata": {},
   "source": [
    "## Ver si las cuadrículas son correctas en un mapa simple:"
   ]
  },
  {
   "cell_type": "code",
   "execution_count": 15,
   "metadata": {},
   "outputs": [
    {
     "data": {
      "text/plain": [
       "<Axes: >"
      ]
     },
     "execution_count": 15,
     "metadata": {},
     "output_type": "execute_result"
    },
    {
     "data": {
      "image/png": "[encoded data removed]",
      "text/plain": [
       "<Figure size 640x480 with 1 Axes>"
      ]
     },
     "metadata": {},
     "output_type": "display_data"
    }
   ],
   "source": [
    "enp_grid.plot(edgecolor=\"black\")"
   ]
  }
 ],
 "metadata": {
  "kernelspec": {
   "display_name": "Python 3",
   "language": "python",
   "name": "python3"
  },
  "language_info": {
   "codemirror_mode": {
    "name": "ipython",
    "version": 3
   },
   "file_extension": ".py",
   "mimetype": "text/x-python",
   "name": "python",
   "nbconvert_exporter": "python",
   "pygments_lexer": "ipython3",
   "version": "3.12.7"
  }
 },
 "nbformat": 4,
 "nbformat_minor": 2
}
